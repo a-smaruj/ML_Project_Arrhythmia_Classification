{
 "cells": [
  {
   "cell_type": "markdown",
   "source": [
    "# Project - ECG Arrhythmia Classification\n",
    "### Natalia Kolińska, Alicja Smaruj, Dorota Woźna, Kacper Zielak\n"
   ],
   "metadata": {
    "collapsed": false
   }
  },
  {
   "cell_type": "markdown",
   "source": [
    "#### Imports"
   ],
   "metadata": {
    "collapsed": false
   }
  },
  {
   "cell_type": "code",
   "execution_count": 16,
   "metadata": {
    "collapsed": true
   },
   "outputs": [],
   "source": [
    "import pandas as pd"
   ]
  },
  {
   "cell_type": "markdown",
   "source": [
    "#### Load data\n",
    "Source: [Kaggle](https://www.kaggle.com/datasets/sadmansakib7/ecg-arrhythmia-classification-dataset?select=Sudden+Cardiac+Death+Holter+Database.csv)"
   ],
   "metadata": {
    "collapsed": false
   }
  },
  {
   "cell_type": "code",
   "execution_count": 17,
   "outputs": [
    {
     "name": "stderr",
     "output_type": "stream",
     "text": [
      "c:\\users\\alicj\\appdata\\local\\programs\\python\\python38\\lib\\site-packages\\IPython\\core\\interactiveshell.py:3146: DtypeWarning: Columns (1) have mixed types.Specify dtype option on import or set low_memory=False.\n",
      "  has_raised = await self.run_ast_nodes(code_ast.body, cell_name,\n"
     ]
    }
   ],
   "source": [
    "df_1 = pd.read_csv('data/INCART 2-lead Arrhythmia Database.csv')\n",
    "df_2 = pd.read_csv('data/MIT-BIH Arrhythmia Database.csv')\n",
    "df_3 = pd.read_csv('data/MIT-BIH Supraventricular Arrhythmia Database.csv')\n",
    "test_data = pd.read_csv('data/Sudden Cardiac Death Holter Database.csv')"
   ],
   "metadata": {
    "collapsed": false,
    "pycharm": {
     "name": "#%%\n"
    }
   }
  },
  {
   "cell_type": "code",
   "execution_count": 18,
   "outputs": [
    {
     "data": {
      "text/plain": "  record type  0_pre-RR  0_post-RR   0_pPeak   0_tPeak   0_rPeak   0_sPeak  \\\n0    I01    N     163.0      165.0  0.069610 -0.083281  0.614133 -0.392761   \n1    I01    N     165.0      166.0 -0.097030  0.597254 -0.078704 -0.078704   \n2    I01    N     166.0      102.0  0.109399  0.680528 -0.010649 -0.010649   \n3    I01  VEB     102.0      231.0  0.176376  0.256431 -0.101098 -0.707525   \n4    I01    N     231.0      165.0  0.585577  0.607461 -0.083499 -0.083499   \n\n    0_qPeak  0_qrs_interval  ...   1_qPeak  1_qrs_interval  1_pq_interval  \\\n0  0.047159              15  ... -0.023370              14              3   \n1 -0.137781               3  ...  0.081637              15              5   \n2 -0.720620               6  ... -0.148539              33             13   \n3 -0.101098               4  ...  0.046898              21              9   \n4 -0.167858               3  ... -0.112552              32              5   \n\n   1_qt_interval  1_st_interval  1_qrs_morph0  1_qrs_morph1  1_qrs_morph2  \\\n0             23              6     -0.023370     -0.011650      0.082608   \n1             27              7      0.081637      0.102992      0.191225   \n2             52              6     -0.148539     -0.060620      0.081080   \n3             34              4      0.046898      0.083728      0.279512   \n4             43              6     -0.112552      0.012989      0.091491   \n\n   1_qrs_morph3  1_qrs_morph4  \n0      0.101373     -0.183387  \n1      0.217544     -0.068248  \n2      0.204400      0.335172  \n3      0.526785      0.450969  \n4      0.134004      0.265232  \n\n[5 rows x 34 columns]",
      "text/html": "<div>\n<style scoped>\n    .dataframe tbody tr th:only-of-type {\n        vertical-align: middle;\n    }\n\n    .dataframe tbody tr th {\n        vertical-align: top;\n    }\n\n    .dataframe thead th {\n        text-align: right;\n    }\n</style>\n<table border=\"1\" class=\"dataframe\">\n  <thead>\n    <tr style=\"text-align: right;\">\n      <th></th>\n      <th>record</th>\n      <th>type</th>\n      <th>0_pre-RR</th>\n      <th>0_post-RR</th>\n      <th>0_pPeak</th>\n      <th>0_tPeak</th>\n      <th>0_rPeak</th>\n      <th>0_sPeak</th>\n      <th>0_qPeak</th>\n      <th>0_qrs_interval</th>\n      <th>...</th>\n      <th>1_qPeak</th>\n      <th>1_qrs_interval</th>\n      <th>1_pq_interval</th>\n      <th>1_qt_interval</th>\n      <th>1_st_interval</th>\n      <th>1_qrs_morph0</th>\n      <th>1_qrs_morph1</th>\n      <th>1_qrs_morph2</th>\n      <th>1_qrs_morph3</th>\n      <th>1_qrs_morph4</th>\n    </tr>\n  </thead>\n  <tbody>\n    <tr>\n      <th>0</th>\n      <td>I01</td>\n      <td>N</td>\n      <td>163.0</td>\n      <td>165.0</td>\n      <td>0.069610</td>\n      <td>-0.083281</td>\n      <td>0.614133</td>\n      <td>-0.392761</td>\n      <td>0.047159</td>\n      <td>15</td>\n      <td>...</td>\n      <td>-0.023370</td>\n      <td>14</td>\n      <td>3</td>\n      <td>23</td>\n      <td>6</td>\n      <td>-0.023370</td>\n      <td>-0.011650</td>\n      <td>0.082608</td>\n      <td>0.101373</td>\n      <td>-0.183387</td>\n    </tr>\n    <tr>\n      <th>1</th>\n      <td>I01</td>\n      <td>N</td>\n      <td>165.0</td>\n      <td>166.0</td>\n      <td>-0.097030</td>\n      <td>0.597254</td>\n      <td>-0.078704</td>\n      <td>-0.078704</td>\n      <td>-0.137781</td>\n      <td>3</td>\n      <td>...</td>\n      <td>0.081637</td>\n      <td>15</td>\n      <td>5</td>\n      <td>27</td>\n      <td>7</td>\n      <td>0.081637</td>\n      <td>0.102992</td>\n      <td>0.191225</td>\n      <td>0.217544</td>\n      <td>-0.068248</td>\n    </tr>\n    <tr>\n      <th>2</th>\n      <td>I01</td>\n      <td>N</td>\n      <td>166.0</td>\n      <td>102.0</td>\n      <td>0.109399</td>\n      <td>0.680528</td>\n      <td>-0.010649</td>\n      <td>-0.010649</td>\n      <td>-0.720620</td>\n      <td>6</td>\n      <td>...</td>\n      <td>-0.148539</td>\n      <td>33</td>\n      <td>13</td>\n      <td>52</td>\n      <td>6</td>\n      <td>-0.148539</td>\n      <td>-0.060620</td>\n      <td>0.081080</td>\n      <td>0.204400</td>\n      <td>0.335172</td>\n    </tr>\n    <tr>\n      <th>3</th>\n      <td>I01</td>\n      <td>VEB</td>\n      <td>102.0</td>\n      <td>231.0</td>\n      <td>0.176376</td>\n      <td>0.256431</td>\n      <td>-0.101098</td>\n      <td>-0.707525</td>\n      <td>-0.101098</td>\n      <td>4</td>\n      <td>...</td>\n      <td>0.046898</td>\n      <td>21</td>\n      <td>9</td>\n      <td>34</td>\n      <td>4</td>\n      <td>0.046898</td>\n      <td>0.083728</td>\n      <td>0.279512</td>\n      <td>0.526785</td>\n      <td>0.450969</td>\n    </tr>\n    <tr>\n      <th>4</th>\n      <td>I01</td>\n      <td>N</td>\n      <td>231.0</td>\n      <td>165.0</td>\n      <td>0.585577</td>\n      <td>0.607461</td>\n      <td>-0.083499</td>\n      <td>-0.083499</td>\n      <td>-0.167858</td>\n      <td>3</td>\n      <td>...</td>\n      <td>-0.112552</td>\n      <td>32</td>\n      <td>5</td>\n      <td>43</td>\n      <td>6</td>\n      <td>-0.112552</td>\n      <td>0.012989</td>\n      <td>0.091491</td>\n      <td>0.134004</td>\n      <td>0.265232</td>\n    </tr>\n  </tbody>\n</table>\n<p>5 rows × 34 columns</p>\n</div>"
     },
     "execution_count": 18,
     "metadata": {},
     "output_type": "execute_result"
    }
   ],
   "source": [
    "train_data = pd.concat([df_1, df_2, df_3])\n",
    "train_data.head()"
   ],
   "metadata": {
    "collapsed": false,
    "pycharm": {
     "name": "#%%\n"
    }
   }
  },
  {
   "cell_type": "code",
   "execution_count": 19,
   "outputs": [
    {
     "data": {
      "text/plain": "   record type  0_pre-RR  0_post-RR   0_pPeak   0_tPeak   0_rPeak   0_sPeak  \\\n0    30.0    N       2.0      194.0  0.003261  0.159554 -0.046726 -0.046726   \n1    30.0    N     194.0      188.0 -0.058462  0.067970  0.285091 -0.272093   \n2    30.0    N     188.0      194.0 -0.012959 -0.089749  0.329466 -0.204659   \n3    30.0    N     194.0      198.0 -0.032815 -0.113236  0.398437 -0.178191   \n4    30.0    N     198.0      196.0 -0.047353  0.164835  0.364677 -0.207953   \n\n    0_qPeak  0_qrs_interval  ...   1_qPeak  1_qrs_interval  1_pq_interval  \\\n0 -0.129022             4.0  ... -0.131451            29.0           17.0   \n1 -0.062109            25.0  ... -0.048727            25.0            2.0   \n2 -0.012971            29.0  ... -0.005256            29.0            5.0   \n3 -0.068497            36.0  ... -0.069992            35.0           26.0   \n4 -0.061457            39.0  ... -0.072007            35.0           25.0   \n\n   1_qt_interval  1_st_interval  1_qrs_morph0  1_qrs_morph1  1_qrs_morph2  \\\n0           95.0           49.0     -0.131451     -0.015809      0.109493   \n1           76.0           49.0     -0.048727      0.034657      0.282264   \n2           53.0           19.0     -0.005256      0.007639      0.116198   \n3           76.0           15.0     -0.069992     -0.049489      0.030777   \n4          115.0           55.0     -0.072007     -0.053251      0.044583   \n\n   1_qrs_morph3  1_qrs_morph4  \n0     -0.153622     -0.200331  \n1     -0.013981     -0.226871  \n2      0.271552     -0.114414  \n3      0.378075     -0.074389  \n4      0.313201     -0.157637  \n\n[5 rows x 34 columns]",
      "text/html": "<div>\n<style scoped>\n    .dataframe tbody tr th:only-of-type {\n        vertical-align: middle;\n    }\n\n    .dataframe tbody tr th {\n        vertical-align: top;\n    }\n\n    .dataframe thead th {\n        text-align: right;\n    }\n</style>\n<table border=\"1\" class=\"dataframe\">\n  <thead>\n    <tr style=\"text-align: right;\">\n      <th></th>\n      <th>record</th>\n      <th>type</th>\n      <th>0_pre-RR</th>\n      <th>0_post-RR</th>\n      <th>0_pPeak</th>\n      <th>0_tPeak</th>\n      <th>0_rPeak</th>\n      <th>0_sPeak</th>\n      <th>0_qPeak</th>\n      <th>0_qrs_interval</th>\n      <th>...</th>\n      <th>1_qPeak</th>\n      <th>1_qrs_interval</th>\n      <th>1_pq_interval</th>\n      <th>1_qt_interval</th>\n      <th>1_st_interval</th>\n      <th>1_qrs_morph0</th>\n      <th>1_qrs_morph1</th>\n      <th>1_qrs_morph2</th>\n      <th>1_qrs_morph3</th>\n      <th>1_qrs_morph4</th>\n    </tr>\n  </thead>\n  <tbody>\n    <tr>\n      <th>0</th>\n      <td>30.0</td>\n      <td>N</td>\n      <td>2.0</td>\n      <td>194.0</td>\n      <td>0.003261</td>\n      <td>0.159554</td>\n      <td>-0.046726</td>\n      <td>-0.046726</td>\n      <td>-0.129022</td>\n      <td>4.0</td>\n      <td>...</td>\n      <td>-0.131451</td>\n      <td>29.0</td>\n      <td>17.0</td>\n      <td>95.0</td>\n      <td>49.0</td>\n      <td>-0.131451</td>\n      <td>-0.015809</td>\n      <td>0.109493</td>\n      <td>-0.153622</td>\n      <td>-0.200331</td>\n    </tr>\n    <tr>\n      <th>1</th>\n      <td>30.0</td>\n      <td>N</td>\n      <td>194.0</td>\n      <td>188.0</td>\n      <td>-0.058462</td>\n      <td>0.067970</td>\n      <td>0.285091</td>\n      <td>-0.272093</td>\n      <td>-0.062109</td>\n      <td>25.0</td>\n      <td>...</td>\n      <td>-0.048727</td>\n      <td>25.0</td>\n      <td>2.0</td>\n      <td>76.0</td>\n      <td>49.0</td>\n      <td>-0.048727</td>\n      <td>0.034657</td>\n      <td>0.282264</td>\n      <td>-0.013981</td>\n      <td>-0.226871</td>\n    </tr>\n    <tr>\n      <th>2</th>\n      <td>30.0</td>\n      <td>N</td>\n      <td>188.0</td>\n      <td>194.0</td>\n      <td>-0.012959</td>\n      <td>-0.089749</td>\n      <td>0.329466</td>\n      <td>-0.204659</td>\n      <td>-0.012971</td>\n      <td>29.0</td>\n      <td>...</td>\n      <td>-0.005256</td>\n      <td>29.0</td>\n      <td>5.0</td>\n      <td>53.0</td>\n      <td>19.0</td>\n      <td>-0.005256</td>\n      <td>0.007639</td>\n      <td>0.116198</td>\n      <td>0.271552</td>\n      <td>-0.114414</td>\n    </tr>\n    <tr>\n      <th>3</th>\n      <td>30.0</td>\n      <td>N</td>\n      <td>194.0</td>\n      <td>198.0</td>\n      <td>-0.032815</td>\n      <td>-0.113236</td>\n      <td>0.398437</td>\n      <td>-0.178191</td>\n      <td>-0.068497</td>\n      <td>36.0</td>\n      <td>...</td>\n      <td>-0.069992</td>\n      <td>35.0</td>\n      <td>26.0</td>\n      <td>76.0</td>\n      <td>15.0</td>\n      <td>-0.069992</td>\n      <td>-0.049489</td>\n      <td>0.030777</td>\n      <td>0.378075</td>\n      <td>-0.074389</td>\n    </tr>\n    <tr>\n      <th>4</th>\n      <td>30.0</td>\n      <td>N</td>\n      <td>198.0</td>\n      <td>196.0</td>\n      <td>-0.047353</td>\n      <td>0.164835</td>\n      <td>0.364677</td>\n      <td>-0.207953</td>\n      <td>-0.061457</td>\n      <td>39.0</td>\n      <td>...</td>\n      <td>-0.072007</td>\n      <td>35.0</td>\n      <td>25.0</td>\n      <td>115.0</td>\n      <td>55.0</td>\n      <td>-0.072007</td>\n      <td>-0.053251</td>\n      <td>0.044583</td>\n      <td>0.313201</td>\n      <td>-0.157637</td>\n    </tr>\n  </tbody>\n</table>\n<p>5 rows × 34 columns</p>\n</div>"
     },
     "execution_count": 19,
     "metadata": {},
     "output_type": "execute_result"
    }
   ],
   "source": [
    "test_data.head()"
   ],
   "metadata": {
    "collapsed": false,
    "pycharm": {
     "name": "#%%\n"
    }
   }
  },
  {
   "cell_type": "markdown",
   "source": [
    "#### Explore data"
   ],
   "metadata": {
    "collapsed": false
   }
  },
  {
   "cell_type": "markdown",
   "source": [
    "Dependent variable\n",
    "- N (Normal),\n",
    "- SVEB (Supraventricular ectopic beat),\n",
    "- VEB (Ventricular ectopic beat),\n",
    "- F (Fusion beat),\n",
    "- Q (Unknown beat)."
   ],
   "metadata": {
    "collapsed": false
   }
  },
  {
   "cell_type": "code",
   "execution_count": 27,
   "outputs": [
    {
     "data": {
      "text/plain": "array(['N', 'VEB', 'SVEB', 'F', 'Q'], dtype=object)"
     },
     "execution_count": 27,
     "metadata": {},
     "output_type": "execute_result"
    }
   ],
   "source": [
    "train_data.type.unique()"
   ],
   "metadata": {
    "collapsed": false,
    "pycharm": {
     "name": "#%%\n"
    }
   }
  },
  {
   "cell_type": "markdown",
   "source": [
    "Check if anything is null"
   ],
   "metadata": {
    "collapsed": false
   }
  },
  {
   "cell_type": "code",
   "execution_count": 28,
   "outputs": [
    {
     "data": {
      "text/plain": "type              False\n0_pre-RR          False\n0_post-RR         False\n0_pPeak           False\n0_tPeak           False\n0_rPeak           False\n0_sPeak           False\n0_qPeak           False\n0_qrs_interval    False\n0_pq_interval     False\n0_qt_interval     False\n0_st_interval     False\n0_qrs_morph0      False\n0_qrs_morph1      False\n0_qrs_morph2      False\n0_qrs_morph3      False\n0_qrs_morph4      False\n1_pre-RR          False\n1_post-RR         False\n1_pPeak           False\n1_tPeak           False\n1_rPeak           False\n1_sPeak           False\n1_qPeak           False\n1_qrs_interval    False\n1_pq_interval     False\n1_qt_interval     False\n1_st_interval     False\n1_qrs_morph0      False\n1_qrs_morph1      False\n1_qrs_morph2      False\n1_qrs_morph3      False\n1_qrs_morph4      False\ndtype: bool"
     },
     "execution_count": 28,
     "metadata": {},
     "output_type": "execute_result"
    }
   ],
   "source": [
    "train_data.isnull().any()"
   ],
   "metadata": {
    "collapsed": false,
    "pycharm": {
     "name": "#%%\n"
    }
   }
  },
  {
   "cell_type": "code",
   "execution_count": 29,
   "outputs": [
    {
     "data": {
      "text/plain": "type              True\n0_pre-RR          True\n0_post-RR         True\n0_pPeak           True\n0_tPeak           True\n0_rPeak           True\n0_sPeak           True\n0_qPeak           True\n0_qrs_interval    True\n0_pq_interval     True\n0_qt_interval     True\n0_st_interval     True\n0_qrs_morph0      True\n0_qrs_morph1      True\n0_qrs_morph2      True\n0_qrs_morph3      True\n0_qrs_morph4      True\n1_pre-RR          True\n1_post-RR         True\n1_pPeak           True\n1_tPeak           True\n1_rPeak           True\n1_sPeak           True\n1_qPeak           True\n1_qrs_interval    True\n1_pq_interval     True\n1_qt_interval     True\n1_st_interval     True\n1_qrs_morph0      True\n1_qrs_morph1      True\n1_qrs_morph2      True\n1_qrs_morph3      True\n1_qrs_morph4      True\ndtype: bool"
     },
     "execution_count": 29,
     "metadata": {},
     "output_type": "execute_result"
    }
   ],
   "source": [
    "test_data.isnull().any()"
   ],
   "metadata": {
    "collapsed": false,
    "pycharm": {
     "name": "#%%\n"
    }
   }
  },
  {
   "cell_type": "markdown",
   "source": [
    "Check how many percentage are null values in test_data"
   ],
   "metadata": {
    "collapsed": false
   }
  },
  {
   "cell_type": "code",
   "execution_count": 35,
   "outputs": [
    {
     "data": {
      "text/plain": "type              15.16\n0_pre-RR          15.16\n0_post-RR         15.16\n0_pPeak           15.16\n0_tPeak           15.16\n0_rPeak           15.16\n0_sPeak           15.16\n0_qPeak           15.16\n0_qrs_interval    15.16\n0_pq_interval     15.16\n0_qt_interval     15.16\n0_st_interval     15.16\n0_qrs_morph0      15.16\n0_qrs_morph1      15.16\n0_qrs_morph2      15.16\n0_qrs_morph3      15.16\n0_qrs_morph4      15.16\n1_pre-RR          34.73\n1_post-RR         34.73\n1_pPeak           34.73\n1_tPeak           34.73\n1_rPeak           34.73\n1_sPeak           34.73\n1_qPeak           34.73\n1_qrs_interval    34.73\n1_pq_interval     34.73\n1_qt_interval     34.73\n1_st_interval     34.73\n1_qrs_morph0      34.73\n1_qrs_morph1      34.73\n1_qrs_morph2      34.73\n1_qrs_morph3      34.73\n1_qrs_morph4      34.73\ndtype: float64"
     },
     "execution_count": 35,
     "metadata": {},
     "output_type": "execute_result"
    }
   ],
   "source": [
    "round(test_data.isnull().sum() * 100 / len(test_data), 2)"
   ],
   "metadata": {
    "collapsed": false,
    "pycharm": {
     "name": "#%%\n"
    }
   }
  },
  {
   "cell_type": "markdown",
   "source": [
    "Check if outliers influence arrhythmia"
   ],
   "metadata": {
    "collapsed": false
   }
  },
  {
   "cell_type": "code",
   "execution_count": 60,
   "outputs": [
    {
     "name": "stdout",
     "output_type": "stream",
     "text": [
      "Q1: -0.05114678272548937 Q2: 0.0120459091030483 Q3: 0.11941641509086005\n",
      "Min: -4.208600735 Max: 10.56590393\n"
     ]
    }
   ],
   "source": [
    "print('Q1:', train_data['0_pPeak'].quantile(.25), 'Q2:', train_data['0_pPeak'].quantile(.5), 'Q3:', train_data['0_pPeak'].quantile(.75))\n",
    "print('Min:', min(train_data['0_pPeak']), 'Max:', max(train_data['0_pPeak']))"
   ],
   "metadata": {
    "collapsed": false,
    "pycharm": {
     "name": "#%%\n"
    }
   }
  },
  {
   "cell_type": "code",
   "execution_count": 75,
   "outputs": [
    {
     "name": "stdout",
     "output_type": "stream",
     "text": [
      "Amount of outliers: 115212\n",
      "Percentage of type in the outlier group\n"
     ]
    },
    {
     "data": {
      "text/plain": "type\nF        0.348922\nN       75.889664\nQ        0.057286\nSVEB     4.189668\nVEB     19.514460\ndtype: float64"
     },
     "execution_count": 75,
     "metadata": {},
     "output_type": "execute_result"
    }
   ],
   "source": [
    "q3 = train_data['0_pPeak'].quantile(.75)\n",
    "print('Amount of outliers:', len(train_data.loc[train_data['0_pPeak'] > q3]))\n",
    "print('Percentage of type in the outlier group')\n",
    "train_data.loc[train_data['0_pPeak'] > q3].groupby('type').size() * 100/len(train_data.loc[train_data['0_pPeak'] > q3])"
   ],
   "metadata": {
    "collapsed": false,
    "pycharm": {
     "name": "#%%\n"
    }
   }
  },
  {
   "cell_type": "code",
   "execution_count": 69,
   "outputs": [
    {
     "data": {
      "text/plain": "type\nF        0.083341\nN       94.805458\nQ        0.017065\nSVEB     0.623075\nVEB      4.471061\ndtype: float64"
     },
     "execution_count": 69,
     "metadata": {},
     "output_type": "execute_result"
    }
   ],
   "source": [
    "test_data.groupby('type').size() * 100/len(test_data)"
   ],
   "metadata": {
    "collapsed": false,
    "pycharm": {
     "name": "#%%\n"
    }
   }
  },
  {
   "cell_type": "markdown",
   "source": [
    "#### Prepare data"
   ],
   "metadata": {
    "collapsed": false
   }
  },
  {
   "cell_type": "markdown",
   "source": [
    "Remove 'record' column, because the name of the subject/patient is irrelevant in this study."
   ],
   "metadata": {
    "collapsed": false
   }
  },
  {
   "cell_type": "code",
   "execution_count": 20,
   "outputs": [],
   "source": [
    "train_data = train_data.drop('record', axis=1)\n",
    "test_data = test_data.drop('record', axis=1)"
   ],
   "metadata": {
    "collapsed": false,
    "pycharm": {
     "name": "#%%\n"
    }
   }
  },
  {
   "cell_type": "markdown",
   "source": [
    "Remove null observations from test_data"
   ],
   "metadata": {
    "collapsed": false
   }
  },
  {
   "cell_type": "code",
   "execution_count": 38,
   "outputs": [
    {
     "data": {
      "text/plain": "251976"
     },
     "execution_count": 38,
     "metadata": {},
     "output_type": "execute_result"
    }
   ],
   "source": [
    "test_data = test_data.dropna()\n",
    "len(test_data)"
   ],
   "metadata": {
    "collapsed": false,
    "pycharm": {
     "name": "#%%\n"
    }
   }
  },
  {
   "cell_type": "markdown",
   "source": [
    "#### Model 1 - Natalia"
   ],
   "metadata": {
    "collapsed": false,
    "pycharm": {
     "name": "#%% md\n"
    }
   }
  },
  {
   "cell_type": "code",
   "execution_count": null,
   "outputs": [],
   "source": [],
   "metadata": {
    "collapsed": false,
    "pycharm": {
     "name": "#%%\n"
    }
   }
  },
  {
   "cell_type": "markdown",
   "source": [
    "#### Model 2 - Dorota"
   ],
   "metadata": {
    "collapsed": false,
    "pycharm": {
     "name": "#%% md\n"
    }
   }
  },
  {
   "cell_type": "code",
   "execution_count": null,
   "outputs": [],
   "source": [],
   "metadata": {
    "collapsed": false,
    "pycharm": {
     "name": "#%%\n"
    }
   }
  },
  {
   "cell_type": "markdown",
   "source": [
    "#### Model 3 - Kacper"
   ],
   "metadata": {
    "collapsed": false
   }
  },
  {
   "cell_type": "code",
   "execution_count": null,
   "outputs": [],
   "source": [],
   "metadata": {
    "collapsed": false,
    "pycharm": {
     "name": "#%%\n"
    }
   }
  }
 ],
 "metadata": {
  "kernelspec": {
   "display_name": "Python 3",
   "language": "python",
   "name": "python3"
  },
  "language_info": {
   "codemirror_mode": {
    "name": "ipython",
    "version": 2
   },
   "file_extension": ".py",
   "mimetype": "text/x-python",
   "name": "python",
   "nbconvert_exporter": "python",
   "pygments_lexer": "ipython2",
   "version": "2.7.6"
  }
 },
 "nbformat": 4,
 "nbformat_minor": 0
}